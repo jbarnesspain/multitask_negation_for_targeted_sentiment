{
  "nbformat": 4,
  "nbformat_minor": 0,
  "metadata": {
    "colab": {
      "name": "Evaluation Metrics.ipynb",
      "provenance": [],
      "collapsed_sections": [],
      "authorship_tag": "ABX9TyPIJCLOn/cM1fOPnCuu8kL5",
      "include_colab_link": true
    },
    "kernelspec": {
      "name": "python3",
      "display_name": "Python 3"
    }
  },
  "cells": [
    {
      "cell_type": "markdown",
      "metadata": {
        "id": "view-in-github",
        "colab_type": "text"
      },
      "source": [
        "<a href=\"https://colab.research.google.com/github/jbarnesspain/multitask_negation_for_targeted_sentiment/blob/master/notebooks/Evaluation_Metrics.ipynb\" target=\"_parent\"><img src=\"https://colab.research.google.com/assets/colab-badge.svg\" alt=\"Open In Colab\"/></a>"
      ]
    },
    {
      "cell_type": "code",
      "metadata": {
        "id": "7PPdZv9jI65r",
        "colab_type": "code",
        "colab": {}
      },
      "source": [
        "%%capture\n",
        "!pip install git+git://github.com/jbarnesspain/multitask_negation_for_targeted_sentiment.git@master#egg=multitask_negation_target"
      ],
      "execution_count": 0,
      "outputs": []
    },
    {
      "cell_type": "code",
      "metadata": {
        "id": "-yj-HecKIFsA",
        "colab_type": "code",
        "colab": {}
      },
      "source": [
        "from multitask_negation_target.analysis import evaluation_metrics\n",
        "import pandas as pd\n",
        "import numpy as np\n",
        "def mean_std(data: pd.Series) -> str:\n",
        "   to_percentage = data * 100\n",
        "   return f'{np.mean(to_percentage):.2f} ({np.std(to_percentage):.2f})'"
      ],
      "execution_count": 0,
      "outputs": []
    },
    {
      "cell_type": "markdown",
      "metadata": {
        "id": "uDT7vzpYIcH0",
        "colab_type": "text"
      },
      "source": [
        "# Evaluating Targeted Sentiment Analysis (TSA) Systems\n",
        "In this notebook we evaluate the different TSA models where each model is made up of the same general architecture which is similar to the model used in [Li et al. 2019](https://ai.tencent.com/ailab/media/publications/A_Unified_Model_for_Opinion_Target_Extraction_and_Target_Sentiment_Prediction.pdf). The architecture is two stacked Bi-LSTM's with a connection layer from the embedding to the second Bi-LSTM. The general learning objective is to improve the Span F1 measure on extracting the targets and their respective sentiment from the text. The models differ with respect to the task and data they learn from:\n",
        "\n",
        "1. Baseline Single Task Learning (STL) model which uses only the given TSA data.\n",
        "2. Multi Task Learning (MTL) model which learns negation scope and cue detection as an auxilary task, but the main task is TSA. \n",
        "\n",
        "The MTL models can learn from one of two data sources:\n",
        "1. [Conan Doyle stories Morante and Blanco, 2012](https://www.aclweb.org/anthology/S12-1035.pdf) \n",
        "2. [SFU a review corpus Konstantinova et al. 2012](http://www.lrec-conf.org/proceedings/lrec2012/pdf/533_Paper.pdf) taken from Epinions.com where the review domains are:\n",
        "  * Books\n",
        "  * Cars\n",
        "  * Computers\n",
        "  * Cookware\n",
        "  * Hotels\n",
        "  * Movies\n",
        "  * Music\n",
        "  * Phones \n",
        "\n",
        "  The TSA datasets that the models will be evaluated are the **Laptop** and **Restaurant** review datasets taken from [Li et al. 2019](https://ai.tencent.com/ailab/media/publications/A_Unified_Model_for_Opinion_Target_Extraction_and_Target_Sentiment_Prediction.pdf) which originally come from the SemEval [2014](https://www.aclweb.org/anthology/S14-2004/), [2015](https://www.aclweb.org/anthology/S15-2082/), and [2016](https://www.aclweb.org/anthology/S16-1002/) aspect based sentiment analysis task. We took the dataset from [Li et al. 2019](https://ai.tencent.com/ailab/media/publications/A_Unified_Model_for_Opinion_Target_Extraction_and_Target_Sentiment_Prediction.pdf) so that our results are directly comparable as their dataset statistics are different from the original datasets, which is most likely due to transforming the dataset into CONLL format which is token and not span based as the original datasets are.\n",
        "\n",
        "The models will be compared across the following four metrics taken from [He et al. 2019](https://www.aclweb.org/anthology/P19-1048.pdf):\n",
        "1. *F1-a* - F1 score of extracting the Target only ignoring the sentiment label.\n",
        "2. *F1-i* - F1 score of extracting the Target and Sentiment label thus the combined/integrated task that is the TSA task.\n",
        "3. *F1-s* - Macro F1 score of the sentiment labels for all correctly extracted targets.\n",
        "4. *Acc-s* - Accuracy score of the sentiment labels for all correctly extracted targets.\n",
        "\n",
        "The main metric for TSA is *F1-i*. The other metrics will probe the models performance in the relevant areas to allow better understanding of these models.\n",
        "\n",
        "Before any of the analysis can be done the data needs to be loaded and the metrics computed:\n"
      ]
    },
    {
      "cell_type": "code",
      "metadata": {
        "id": "W5xNAkCEIaMp",
        "colab_type": "code",
        "colab": {}
      },
      "source": [
        "from collections import defaultdict\n",
        "from pathlib import Path\n",
        "import tempfile\n",
        "\n",
        "import requests\n",
        "from sklearn.metrics import accuracy_score, f1_score\n",
        "\n",
        "results_df_dict = defaultdict(list)\n",
        "\n",
        "base_url = 'https://raw.githubusercontent.com/jbarnesspain/multitask_negation_for_targeted_sentiment/master/data/results/en'\n",
        "model_names = ['STL', 'MTL (CD)', 'MTL (SFU)']\n",
        "dataset_names = ['Restaurant', 'Laptop']\n",
        "split_names = ['Validation', 'Test']\n",
        "for model_name in model_names:\n",
        "  if model_name == 'STL':\n",
        "    model_url = base_url + '/stl'\n",
        "  elif model_name == 'MTL (CD)':\n",
        "    model_url = base_url + '/mtl/conan_doyle'\n",
        "  elif model_name == 'MTL (SFU)':\n",
        "    model_url = base_url + '/mtl/sfu'\n",
        "  for dataset_name in dataset_names:\n",
        "    for split_name in split_names:\n",
        "      if split_name == 'Test':\n",
        "        result_url = model_url + f'/{dataset_name.lower()}/test.conll'\n",
        "      elif split_name == 'Validation':\n",
        "        result_url = model_url + f'/{dataset_name.lower()}/dev.conll'\n",
        "      for run_number in range(5):\n",
        "        with tempfile.TemporaryDirectory() as temp_dir:\n",
        "          temp_fp = Path(temp_dir, 'temp_file.txt')\n",
        "          with temp_fp.open('w') as temp_file:\n",
        "            temp_file.write(requests.get(result_url).text)\n",
        "          #print(f'{model_name} {dataset_name} {split_name} {run_number} {result_fp}')\n",
        "          f1_a = evaluation_metrics.span_f1(temp_fp, run_number=run_number, \n",
        "                                            ignore_sentiment=True)\n",
        "          f1_a_recall, f1_a_precision, f1_a = f1_a\n",
        "          f1_i = evaluation_metrics.span_f1(temp_fp, run_number=run_number, \n",
        "                                            ignore_sentiment=False)\n",
        "          f1_i_recall, f1_i_precision, f1_i = f1_i\n",
        "          f1_i_pos = evaluation_metrics.span_f1(temp_fp, run_number=run_number, \n",
        "                                                ignore_sentiment=False, \n",
        "                                                filter_by_sentiment='POS')\n",
        "          f1_i_pos_recall, f1_i_pos_precision, f1_i_pos = f1_i_pos\n",
        "          f1_i_neu = evaluation_metrics.span_f1(temp_fp, run_number=run_number, \n",
        "                                                ignore_sentiment=False, \n",
        "                                                filter_by_sentiment='NEU')\n",
        "          f1_i_neu_recall, f1_i_neu_precision, f1_i_neu = f1_i_neu\n",
        "          f1_i_neg = evaluation_metrics.span_f1(temp_fp, run_number=run_number, \n",
        "                                                ignore_sentiment=False, \n",
        "                                                filter_by_sentiment='NEG') \n",
        "          f1_i_neg_recall, f1_i_neg_precision, f1_i_neg = f1_i_neg\n",
        "          f1_s = evaluation_metrics.span_label_metric(temp_fp, run_number=run_number, \n",
        "                                                      metric_func=f1_score, \n",
        "                                                      average='macro')\n",
        "          acc_s = evaluation_metrics.span_label_metric(temp_fp, run_number=run_number,\n",
        "                                                      metric_func=accuracy_score)\n",
        "          results_df_dict['Model'].append(model_name)\n",
        "          results_df_dict['Dataset'].append(dataset_name)\n",
        "          results_df_dict['Split'].append(split_name)\n",
        "          results_df_dict['Run'].append(run_number)\n",
        "          results_df_dict['F1-a'].append(f1_a)\n",
        "          results_df_dict['F1-a-R'].append(f1_a_recall)\n",
        "          results_df_dict['F1-a-P'].append(f1_a_precision)\n",
        "          results_df_dict['F1-i'].append(f1_i)\n",
        "          results_df_dict['F1-i-R'].append(f1_i_recall)\n",
        "          results_df_dict['F1-i-P'].append(f1_i_precision)\n",
        "          results_df_dict['F1-i-pos'].append(f1_i_pos)\n",
        "          results_df_dict['F1-i-pos-R'].append(f1_i_pos_recall)\n",
        "          results_df_dict['F1-i-pos-P'].append(f1_i_pos_precision)\n",
        "          results_df_dict['F1-i-neg'].append(f1_i_neg)\n",
        "          results_df_dict['F1-i-neg-R'].append(f1_i_neg_recall)\n",
        "          results_df_dict['F1-i-neg-P'].append(f1_i_neg_precision)\n",
        "          results_df_dict['F1-i-neu'].append(f1_i_neu)\n",
        "          results_df_dict['F1-i-neu-R'].append(f1_i_neu_recall)\n",
        "          results_df_dict['F1-i-neu-P'].append(f1_i_neu_precision)\n",
        "          results_df_dict['F1-s'].append(f1_s)\n",
        "          results_df_dict['Acc-s'].append(acc_s)"
      ],
      "execution_count": 0,
      "outputs": []
    },
    {
      "cell_type": "code",
      "metadata": {
        "id": "uY78QLjY5TXD",
        "colab_type": "code",
        "outputId": "cab908a8-d5b8-4fa8-81af-99552796ae42",
        "colab": {
          "base_uri": "https://localhost:8080/",
          "height": 204
        }
      },
      "source": [
        "results_df = pd.DataFrame(results_df_dict)\n",
        "not_metric_cols = ['Model', 'Dataset', 'Split', 'Run']\n",
        "metric_cols = [col_name for col_name in results_df.columns.tolist() \n",
        "               if col_name not in not_metric_cols]\n",
        "results_df = pd.melt(results_df, id_vars=not_metric_cols, value_vars=metric_cols, \n",
        "                     var_name='Metric', value_name='Score')\n",
        "test_results_df = results_df[results_df['Split']=='Test']\n",
        "val_results_df = results_df[results_df['Split']=='Validation']\n",
        "results_df.head()"
      ],
      "execution_count": 4,
      "outputs": [
        {
          "output_type": "execute_result",
          "data": {
            "text/html": [
              "<div>\n",
              "<style scoped>\n",
              "    .dataframe tbody tr th:only-of-type {\n",
              "        vertical-align: middle;\n",
              "    }\n",
              "\n",
              "    .dataframe tbody tr th {\n",
              "        vertical-align: top;\n",
              "    }\n",
              "\n",
              "    .dataframe thead th {\n",
              "        text-align: right;\n",
              "    }\n",
              "</style>\n",
              "<table border=\"1\" class=\"dataframe\">\n",
              "  <thead>\n",
              "    <tr style=\"text-align: right;\">\n",
              "      <th></th>\n",
              "      <th>Model</th>\n",
              "      <th>Dataset</th>\n",
              "      <th>Split</th>\n",
              "      <th>Run</th>\n",
              "      <th>Metric</th>\n",
              "      <th>Score</th>\n",
              "    </tr>\n",
              "  </thead>\n",
              "  <tbody>\n",
              "    <tr>\n",
              "      <th>0</th>\n",
              "      <td>STL</td>\n",
              "      <td>Restaurant</td>\n",
              "      <td>Validation</td>\n",
              "      <td>0</td>\n",
              "      <td>F1-a</td>\n",
              "      <td>0.790419</td>\n",
              "    </tr>\n",
              "    <tr>\n",
              "      <th>1</th>\n",
              "      <td>STL</td>\n",
              "      <td>Restaurant</td>\n",
              "      <td>Validation</td>\n",
              "      <td>1</td>\n",
              "      <td>F1-a</td>\n",
              "      <td>0.790754</td>\n",
              "    </tr>\n",
              "    <tr>\n",
              "      <th>2</th>\n",
              "      <td>STL</td>\n",
              "      <td>Restaurant</td>\n",
              "      <td>Validation</td>\n",
              "      <td>2</td>\n",
              "      <td>F1-a</td>\n",
              "      <td>0.780073</td>\n",
              "    </tr>\n",
              "    <tr>\n",
              "      <th>3</th>\n",
              "      <td>STL</td>\n",
              "      <td>Restaurant</td>\n",
              "      <td>Validation</td>\n",
              "      <td>3</td>\n",
              "      <td>F1-a</td>\n",
              "      <td>0.803828</td>\n",
              "    </tr>\n",
              "    <tr>\n",
              "      <th>4</th>\n",
              "      <td>STL</td>\n",
              "      <td>Restaurant</td>\n",
              "      <td>Validation</td>\n",
              "      <td>4</td>\n",
              "      <td>F1-a</td>\n",
              "      <td>0.793765</td>\n",
              "    </tr>\n",
              "  </tbody>\n",
              "</table>\n",
              "</div>"
            ],
            "text/plain": [
              "  Model     Dataset       Split  Run Metric     Score\n",
              "0   STL  Restaurant  Validation    0   F1-a  0.790419\n",
              "1   STL  Restaurant  Validation    1   F1-a  0.790754\n",
              "2   STL  Restaurant  Validation    2   F1-a  0.780073\n",
              "3   STL  Restaurant  Validation    3   F1-a  0.803828\n",
              "4   STL  Restaurant  Validation    4   F1-a  0.793765"
            ]
          },
          "metadata": {
            "tags": []
          },
          "execution_count": 4
        }
      ]
    },
    {
      "cell_type": "markdown",
      "metadata": {
        "id": "6kbRqRJh8MJt",
        "colab_type": "text"
      },
      "source": [
        "## F1-I\n",
        "\n",
        "First we shall plot the F1-I results the main metric in TSA. The results will show the overall F1-i metirc and the F1-i score for each of the sentiment labels. The top row is the test results and bottom is the validation:"
      ]
    },
    {
      "cell_type": "code",
      "metadata": {
        "id": "cPpl7JSQkzIe",
        "colab_type": "code",
        "outputId": "6b9eae24-5fe5-418f-81ae-158f6288775e",
        "colab": {
          "base_uri": "https://localhost:8080/",
          "height": 746
        }
      },
      "source": [
        "import seaborn as sns\n",
        "ROW_ORDER=['Test', 'Validation']\n",
        "f1_i_results = results_df[results_df['Metric'].isin(['F1-i', 'F1-i-pos', 'F1-i-neu', 'F1-i-neg'])]\n",
        "sns.catplot(data=f1_i_results, hue='Model', row='Split', col='Dataset', x='Metric', \n",
        "            y='Score', sharex=False, sharey=False, kind='point', ci='sd', \n",
        "            join=False, dodge=0.4, capsize=0.1, row_order=ROW_ORDER)"
      ],
      "execution_count": 5,
      "outputs": [
        {
          "output_type": "execute_result",
          "data": {
            "text/plain": [
              "<seaborn.axisgrid.FacetGrid at 0x7f7faa0174e0>"
            ]
          },
          "metadata": {
            "tags": []
          },
          "execution_count": 5
        },
        {
          "output_type": "display_data",
          "data": {
            "image/png": "[encoded data removed]",
            "text/plain": [
              "<Figure size 806.375x720 with 4 Axes>"
            ]
          },
          "metadata": {
            "tags": []
          }
        }
      ]
    },
    {
      "cell_type": "code",
      "metadata": {
        "id": "36TuZZj3GnqS",
        "colab_type": "code",
        "outputId": "7a569773-441b-4749-f54f-7475a29923f8",
        "colab": {
          "base_uri": "https://localhost:8080/",
          "height": 204
        }
      },
      "source": [
        "f1_i_results = results_df[results_df['Metric'].isin(['F1-i'])]\n",
        "pd.pivot_table(values='Score', \n",
        "               columns=['Dataset', 'Split', 'Metric'], \n",
        "               index='Model', data=f1_i_results, aggfunc=mean_std).T"
      ],
      "execution_count": 6,
      "outputs": [
        {
          "output_type": "execute_result",
          "data": {
            "text/html": [
              "<div>\n",
              "<style scoped>\n",
              "    .dataframe tbody tr th:only-of-type {\n",
              "        vertical-align: middle;\n",
              "    }\n",
              "\n",
              "    .dataframe tbody tr th {\n",
              "        vertical-align: top;\n",
              "    }\n",
              "\n",
              "    .dataframe thead th {\n",
              "        text-align: right;\n",
              "    }\n",
              "</style>\n",
              "<table border=\"1\" class=\"dataframe\">\n",
              "  <thead>\n",
              "    <tr style=\"text-align: right;\">\n",
              "      <th></th>\n",
              "      <th></th>\n",
              "      <th>Model</th>\n",
              "      <th>MTL (CD)</th>\n",
              "      <th>MTL (SFU)</th>\n",
              "      <th>STL</th>\n",
              "    </tr>\n",
              "    <tr>\n",
              "      <th>Dataset</th>\n",
              "      <th>Split</th>\n",
              "      <th>Metric</th>\n",
              "      <th></th>\n",
              "      <th></th>\n",
              "      <th></th>\n",
              "    </tr>\n",
              "  </thead>\n",
              "  <tbody>\n",
              "    <tr>\n",
              "      <th rowspan=\"2\" valign=\"top\">Laptop</th>\n",
              "      <th>Test</th>\n",
              "      <th>F1-i</th>\n",
              "      <td>54.78 (1.32)</td>\n",
              "      <td>57.13 (1.12)</td>\n",
              "      <td>54.37 (2.56)</td>\n",
              "    </tr>\n",
              "    <tr>\n",
              "      <th>Validation</th>\n",
              "      <th>F1-i</th>\n",
              "      <td>59.30 (0.87)</td>\n",
              "      <td>58.77 (1.15)</td>\n",
              "      <td>57.97 (1.24)</td>\n",
              "    </tr>\n",
              "    <tr>\n",
              "      <th rowspan=\"2\" valign=\"top\">Restaurant</th>\n",
              "      <th>Test</th>\n",
              "      <th>F1-i</th>\n",
              "      <td>66.54 (1.06)</td>\n",
              "      <td>65.79 (1.38)</td>\n",
              "      <td>65.60 (1.06)</td>\n",
              "    </tr>\n",
              "    <tr>\n",
              "      <th>Validation</th>\n",
              "      <th>F1-i</th>\n",
              "      <td>63.64 (0.76)</td>\n",
              "      <td>62.30 (0.77)</td>\n",
              "      <td>62.36 (0.60)</td>\n",
              "    </tr>\n",
              "  </tbody>\n",
              "</table>\n",
              "</div>"
            ],
            "text/plain": [
              "Model                             MTL (CD)     MTL (SFU)           STL\n",
              "Dataset    Split      Metric                                          \n",
              "Laptop     Test       F1-i    54.78 (1.32)  57.13 (1.12)  54.37 (2.56)\n",
              "           Validation F1-i    59.30 (0.87)  58.77 (1.15)  57.97 (1.24)\n",
              "Restaurant Test       F1-i    66.54 (1.06)  65.79 (1.38)  65.60 (1.06)\n",
              "           Validation F1-i    63.64 (0.76)  62.30 (0.77)  62.36 (0.60)"
            ]
          },
          "metadata": {
            "tags": []
          },
          "execution_count": 6
        }
      ]
    },
    {
      "cell_type": "markdown",
      "metadata": {
        "id": "oPs3dsKAFQDd",
        "colab_type": "text"
      },
      "source": [
        "## F1-A\n",
        "The next results are for the target extraction task only with F1, Precision and Recall results:"
      ]
    },
    {
      "cell_type": "code",
      "metadata": {
        "id": "UjsAtj1I_qtV",
        "colab_type": "code",
        "outputId": "fa0ab0ef-381a-4cda-ef57-8980b30cebaf",
        "colab": {
          "base_uri": "https://localhost:8080/",
          "height": 746
        }
      },
      "source": [
        "f1_a_results = results_df[results_df['Metric'].isin(['F1-a', 'F1-a-P', 'F1-a-R'])]\n",
        "sns.catplot(data=f1_a_results, hue='Model', row='Split', col='Dataset', x='Metric', \n",
        "            y='Score', sharex=False, sharey=False, kind='point', ci='sd', \n",
        "            join=False, dodge=0.4, capsize=0.1, row_order=ROW_ORDER)"
      ],
      "execution_count": 7,
      "outputs": [
        {
          "output_type": "execute_result",
          "data": {
            "text/plain": [
              "<seaborn.axisgrid.FacetGrid at 0x7f7fa74702e8>"
            ]
          },
          "metadata": {
            "tags": []
          },
          "execution_count": 7
        },
        {
          "output_type": "display_data",
          "data": {
            "image/png": "[encoded data removed]",
            "text/plain": [
              "<Figure size 806.375x720 with 4 Axes>"
            ]
          },
          "metadata": {
            "tags": []
          }
        }
      ]
    },
    {
      "cell_type": "code",
      "metadata": {
        "id": "ABhTwhRQHYlh",
        "colab_type": "code",
        "outputId": "da4d1426-31cf-4645-d1fb-f5d2777fbbc7",
        "colab": {
          "base_uri": "https://localhost:8080/",
          "height": 204
        }
      },
      "source": [
        "f1_a_results = results_df[results_df['Metric'].isin(['F1-a'])]\n",
        "pd.pivot_table(values='Score', \n",
        "               columns=['Dataset', 'Split', 'Metric'], \n",
        "               index='Model', data=f1_a_results, aggfunc=mean_std).T"
      ],
      "execution_count": 8,
      "outputs": [
        {
          "output_type": "execute_result",
          "data": {
            "text/html": [
              "<div>\n",
              "<style scoped>\n",
              "    .dataframe tbody tr th:only-of-type {\n",
              "        vertical-align: middle;\n",
              "    }\n",
              "\n",
              "    .dataframe tbody tr th {\n",
              "        vertical-align: top;\n",
              "    }\n",
              "\n",
              "    .dataframe thead th {\n",
              "        text-align: right;\n",
              "    }\n",
              "</style>\n",
              "<table border=\"1\" class=\"dataframe\">\n",
              "  <thead>\n",
              "    <tr style=\"text-align: right;\">\n",
              "      <th></th>\n",
              "      <th></th>\n",
              "      <th>Model</th>\n",
              "      <th>MTL (CD)</th>\n",
              "      <th>MTL (SFU)</th>\n",
              "      <th>STL</th>\n",
              "    </tr>\n",
              "    <tr>\n",
              "      <th>Dataset</th>\n",
              "      <th>Split</th>\n",
              "      <th>Metric</th>\n",
              "      <th></th>\n",
              "      <th></th>\n",
              "      <th></th>\n",
              "    </tr>\n",
              "  </thead>\n",
              "  <tbody>\n",
              "    <tr>\n",
              "      <th rowspan=\"2\" valign=\"top\">Laptop</th>\n",
              "      <th>Test</th>\n",
              "      <th>F1-a</th>\n",
              "      <td>77.66 (0.93)</td>\n",
              "      <td>78.41 (0.76)</td>\n",
              "      <td>76.76 (1.69)</td>\n",
              "    </tr>\n",
              "    <tr>\n",
              "      <th>Validation</th>\n",
              "      <th>F1-a</th>\n",
              "      <td>76.53 (0.54)</td>\n",
              "      <td>76.28 (1.38)</td>\n",
              "      <td>75.06 (1.06)</td>\n",
              "    </tr>\n",
              "    <tr>\n",
              "      <th rowspan=\"2\" valign=\"top\">Restaurant</th>\n",
              "      <th>Test</th>\n",
              "      <th>F1-a</th>\n",
              "      <td>79.03 (0.51)</td>\n",
              "      <td>78.95 (0.71)</td>\n",
              "      <td>78.42 (0.85)</td>\n",
              "    </tr>\n",
              "    <tr>\n",
              "      <th>Validation</th>\n",
              "      <th>F1-a</th>\n",
              "      <td>79.88 (0.89)</td>\n",
              "      <td>79.83 (0.17)</td>\n",
              "      <td>79.18 (0.76)</td>\n",
              "    </tr>\n",
              "  </tbody>\n",
              "</table>\n",
              "</div>"
            ],
            "text/plain": [
              "Model                             MTL (CD)     MTL (SFU)           STL\n",
              "Dataset    Split      Metric                                          \n",
              "Laptop     Test       F1-a    77.66 (0.93)  78.41 (0.76)  76.76 (1.69)\n",
              "           Validation F1-a    76.53 (0.54)  76.28 (1.38)  75.06 (1.06)\n",
              "Restaurant Test       F1-a    79.03 (0.51)  78.95 (0.71)  78.42 (0.85)\n",
              "           Validation F1-a    79.88 (0.89)  79.83 (0.17)  79.18 (0.76)"
            ]
          },
          "metadata": {
            "tags": []
          },
          "execution_count": 8
        }
      ]
    },
    {
      "cell_type": "markdown",
      "metadata": {
        "id": "cwVdQLzrFoHp",
        "colab_type": "text"
      },
      "source": [
        "## F1-S and ACC-S\n",
        "\n",
        "The Accuracy and Macro-F1 sentiment results where the score is based on the samples that the predicted target extraction got correct:"
      ]
    },
    {
      "cell_type": "code",
      "metadata": {
        "id": "o65ZAzxEFfoa",
        "colab_type": "code",
        "outputId": "bd05ef73-3c7d-4d85-9807-55fc73c381ee",
        "colab": {
          "base_uri": "https://localhost:8080/",
          "height": 746
        }
      },
      "source": [
        "sentiment_results = results_df[results_df['Metric'].isin(['F1-s', 'Acc-s'])]\n",
        "sns.catplot(data=sentiment_results, hue='Model', row='Split', col='Dataset', x='Metric', \n",
        "            y='Score', sharex=False, sharey=False, kind='point', ci='sd', \n",
        "            join=False, dodge=0.4, capsize=0.1, row_order=ROW_ORDER)"
      ],
      "execution_count": 9,
      "outputs": [
        {
          "output_type": "execute_result",
          "data": {
            "text/plain": [
              "<seaborn.axisgrid.FacetGrid at 0x7f7fa9ee0470>"
            ]
          },
          "metadata": {
            "tags": []
          },
          "execution_count": 9
        },
        {
          "output_type": "display_data",
          "data": {
            "image/png": "[encoded data removed]",
            "text/plain": [
              "<Figure size 806.375x720 with 4 Axes>"
            ]
          },
          "metadata": {
            "tags": []
          }
        }
      ]
    },
    {
      "cell_type": "code",
      "metadata": {
        "id": "p2EmxCwpH_8u",
        "colab_type": "code",
        "outputId": "25ad9f7a-bfb3-4efe-bfc5-62cc4d13e418",
        "colab": {
          "base_uri": "https://localhost:8080/",
          "height": 328
        }
      },
      "source": [
        "pd.pivot_table(values='Score', \n",
        "               columns=['Dataset', 'Split', 'Metric'], \n",
        "               index='Model', data=sentiment_results, aggfunc=mean_std).T"
      ],
      "execution_count": 10,
      "outputs": [
        {
          "output_type": "execute_result",
          "data": {
            "text/html": [
              "<div>\n",
              "<style scoped>\n",
              "    .dataframe tbody tr th:only-of-type {\n",
              "        vertical-align: middle;\n",
              "    }\n",
              "\n",
              "    .dataframe tbody tr th {\n",
              "        vertical-align: top;\n",
              "    }\n",
              "\n",
              "    .dataframe thead th {\n",
              "        text-align: right;\n",
              "    }\n",
              "</style>\n",
              "<table border=\"1\" class=\"dataframe\">\n",
              "  <thead>\n",
              "    <tr style=\"text-align: right;\">\n",
              "      <th></th>\n",
              "      <th></th>\n",
              "      <th>Model</th>\n",
              "      <th>MTL (CD)</th>\n",
              "      <th>MTL (SFU)</th>\n",
              "      <th>STL</th>\n",
              "    </tr>\n",
              "    <tr>\n",
              "      <th>Dataset</th>\n",
              "      <th>Split</th>\n",
              "      <th>Metric</th>\n",
              "      <th></th>\n",
              "      <th></th>\n",
              "      <th></th>\n",
              "    </tr>\n",
              "  </thead>\n",
              "  <tbody>\n",
              "    <tr>\n",
              "      <th rowspan=\"4\" valign=\"top\">Laptop</th>\n",
              "      <th rowspan=\"2\" valign=\"top\">Test</th>\n",
              "      <th>Acc-s</th>\n",
              "      <td>70.56 (2.11)</td>\n",
              "      <td>72.85 (0.73)</td>\n",
              "      <td>70.80 (2.02)</td>\n",
              "    </tr>\n",
              "    <tr>\n",
              "      <th>F1-s</th>\n",
              "      <td>63.26 (2.96)</td>\n",
              "      <td>65.49 (1.19)</td>\n",
              "      <td>61.90 (3.32)</td>\n",
              "    </tr>\n",
              "    <tr>\n",
              "      <th rowspan=\"2\" valign=\"top\">Validation</th>\n",
              "      <th>Acc-s</th>\n",
              "      <td>77.50 (1.53)</td>\n",
              "      <td>77.07 (1.99)</td>\n",
              "      <td>77.22 (1.05)</td>\n",
              "    </tr>\n",
              "    <tr>\n",
              "      <th>F1-s</th>\n",
              "      <td>70.98 (4.22)</td>\n",
              "      <td>70.98 (2.79)</td>\n",
              "      <td>67.27 (2.80)</td>\n",
              "    </tr>\n",
              "    <tr>\n",
              "      <th rowspan=\"4\" valign=\"top\">Restaurant</th>\n",
              "      <th rowspan=\"2\" valign=\"top\">Test</th>\n",
              "      <th>Acc-s</th>\n",
              "      <td>84.19 (0.82)</td>\n",
              "      <td>83.32 (1.03)</td>\n",
              "      <td>83.65 (0.48)</td>\n",
              "    </tr>\n",
              "    <tr>\n",
              "      <th>F1-s</th>\n",
              "      <td>69.27 (1.83)</td>\n",
              "      <td>66.31 (2.41)</td>\n",
              "      <td>68.00 (1.61)</td>\n",
              "    </tr>\n",
              "    <tr>\n",
              "      <th rowspan=\"2\" valign=\"top\">Validation</th>\n",
              "      <th>Acc-s</th>\n",
              "      <td>79.68 (1.29)</td>\n",
              "      <td>78.04 (0.89)</td>\n",
              "      <td>78.76 (0.37)</td>\n",
              "    </tr>\n",
              "    <tr>\n",
              "      <th>F1-s</th>\n",
              "      <td>65.54 (2.90)</td>\n",
              "      <td>60.07 (3.81)</td>\n",
              "      <td>63.15 (1.94)</td>\n",
              "    </tr>\n",
              "  </tbody>\n",
              "</table>\n",
              "</div>"
            ],
            "text/plain": [
              "Model                             MTL (CD)     MTL (SFU)           STL\n",
              "Dataset    Split      Metric                                          \n",
              "Laptop     Test       Acc-s   70.56 (2.11)  72.85 (0.73)  70.80 (2.02)\n",
              "                      F1-s    63.26 (2.96)  65.49 (1.19)  61.90 (3.32)\n",
              "           Validation Acc-s   77.50 (1.53)  77.07 (1.99)  77.22 (1.05)\n",
              "                      F1-s    70.98 (4.22)  70.98 (2.79)  67.27 (2.80)\n",
              "Restaurant Test       Acc-s   84.19 (0.82)  83.32 (1.03)  83.65 (0.48)\n",
              "                      F1-s    69.27 (1.83)  66.31 (2.41)  68.00 (1.61)\n",
              "           Validation Acc-s   79.68 (1.29)  78.04 (0.89)  78.76 (0.37)\n",
              "                      F1-s    65.54 (2.90)  60.07 (3.81)  63.15 (1.94)"
            ]
          },
          "metadata": {
            "tags": []
          },
          "execution_count": 10
        }
      ]
    },
    {
      "cell_type": "markdown",
      "metadata": {
        "id": "SzzRxcDST7bH",
        "colab_type": "text"
      },
      "source": [
        "# Negation results\n",
        "\n",
        "Unlike the previous results, the following are on the development/validation split of the Laptop and Restaurant datasets that have been annotated such that each target has been negated.\n",
        "\n",
        "Below we donwload the results and convert them into a DataFrame"
      ]
    },
    {
      "cell_type": "code",
      "metadata": {
        "id": "EsyazRzXOMPz",
        "colab_type": "code",
        "colab": {}
      },
      "source": [
        "from collections import defaultdict\n",
        "from pathlib import Path\n",
        "import tempfile\n",
        "\n",
        "import requests\n",
        "from sklearn.metrics import accuracy_score, f1_score\n",
        "\n",
        "negation_results_df_dict = defaultdict(list)\n",
        "\n",
        "base_url = 'https://raw.githubusercontent.com/jbarnesspain/multitask_negation_for_targeted_sentiment/master/data/results/en'\n",
        "model_names = ['STL', 'MTL (CD)', 'MTL (SFU)']\n",
        "dataset_names = ['Restaurant', 'Laptop']\n",
        "for model_name in model_names:\n",
        "  if model_name == 'STL':\n",
        "    model_url = base_url + '/stl'\n",
        "  elif model_name == 'MTL (CD)':\n",
        "    model_url = base_url + '/mtl/conan_doyle'\n",
        "  elif model_name == 'MTL (SFU)':\n",
        "    model_url = base_url + '/mtl/sfu'\n",
        "  for dataset_name in dataset_names:\n",
        "    result_url = model_url + f'/{dataset_name.lower()}/dev_neg.conll'\n",
        "    for run_number in range(5):\n",
        "      with tempfile.TemporaryDirectory() as temp_dir:\n",
        "        temp_fp = Path(temp_dir, 'temp_file.txt')\n",
        "        with temp_fp.open('w') as temp_file:\n",
        "          temp_file.write(requests.get(result_url).text)\n",
        "        f1_a = evaluation_metrics.span_f1(temp_fp, run_number=run_number, \n",
        "                                          ignore_sentiment=True)\n",
        "        f1_a_recall, f1_a_precision, f1_a = f1_a\n",
        "        f1_i = evaluation_metrics.span_f1(temp_fp, run_number=run_number, \n",
        "                                          ignore_sentiment=False)\n",
        "        f1_i_recall, f1_i_precision, f1_i = f1_i\n",
        "        f1_i_pos = evaluation_metrics.span_f1(temp_fp, run_number=run_number, \n",
        "                                              ignore_sentiment=False, \n",
        "                                              filter_by_sentiment='POS')\n",
        "        f1_i_pos_recall, f1_i_pos_precision, f1_i_pos = f1_i_pos\n",
        "        f1_i_neu = evaluation_metrics.span_f1(temp_fp, run_number=run_number, \n",
        "                                              ignore_sentiment=False, \n",
        "                                              filter_by_sentiment='NEU')\n",
        "        f1_i_neu_recall, f1_i_neu_precision, f1_i_neu = f1_i_neu\n",
        "        f1_i_neg = evaluation_metrics.span_f1(temp_fp, run_number=run_number, \n",
        "                                              ignore_sentiment=False, \n",
        "                                              filter_by_sentiment='NEG') \n",
        "        f1_i_neg_recall, f1_i_neg_precision, f1_i_neg = f1_i_neg\n",
        "        f1_s = evaluation_metrics.span_label_metric(temp_fp, run_number=run_number, \n",
        "                                                    metric_func=f1_score, \n",
        "                                                    average='macro')\n",
        "        acc_s = evaluation_metrics.span_label_metric(temp_fp, run_number=run_number,\n",
        "                                                    metric_func=accuracy_score)\n",
        "        negation_results_df_dict['Model'].append(model_name)\n",
        "        negation_results_df_dict['Dataset'].append(dataset_name)\n",
        "        negation_results_df_dict['Run'].append(run_number)\n",
        "        negation_results_df_dict['F1-a'].append(f1_a)\n",
        "        negation_results_df_dict['F1-a-R'].append(f1_a_recall)\n",
        "        negation_results_df_dict['F1-a-P'].append(f1_a_precision)\n",
        "        negation_results_df_dict['F1-i'].append(f1_i)\n",
        "        negation_results_df_dict['F1-i-R'].append(f1_i_recall)\n",
        "        negation_results_df_dict['F1-i-P'].append(f1_i_precision)\n",
        "        negation_results_df_dict['F1-i-pos'].append(f1_i_pos)\n",
        "        negation_results_df_dict['F1-i-pos-R'].append(f1_i_pos_recall)\n",
        "        negation_results_df_dict['F1-i-pos-P'].append(f1_i_pos_precision)\n",
        "        negation_results_df_dict['F1-i-neg'].append(f1_i_neg)\n",
        "        negation_results_df_dict['F1-i-neg-R'].append(f1_i_neg_recall)\n",
        "        negation_results_df_dict['F1-i-neg-P'].append(f1_i_neg_precision)\n",
        "        negation_results_df_dict['F1-i-neu'].append(f1_i_neu)\n",
        "        negation_results_df_dict['F1-i-neu-R'].append(f1_i_neu_recall)\n",
        "        negation_results_df_dict['F1-i-neu-P'].append(f1_i_neu_precision)\n",
        "        negation_results_df_dict['F1-s'].append(f1_s)\n",
        "        negation_results_df_dict['Acc-s'].append(acc_s)"
      ],
      "execution_count": 0,
      "outputs": []
    },
    {
      "cell_type": "code",
      "metadata": {
        "id": "pWFv7k39VeNA",
        "colab_type": "code",
        "colab": {
          "base_uri": "https://localhost:8080/",
          "height": 204
        },
        "outputId": "de046a69-b2b1-4527-a213-f19984087021"
      },
      "source": [
        "negation_results_df = pd.DataFrame(negation_results_df_dict)\n",
        "not_metric_cols = ['Model', 'Dataset', 'Run']\n",
        "metric_cols = [col_name for col_name in negation_results_df.columns.tolist() \n",
        "               if col_name not in not_metric_cols]\n",
        "negation_results_df = pd.melt(negation_results_df, id_vars=not_metric_cols, \n",
        "                              value_vars=metric_cols, var_name='Metric', \n",
        "                              value_name='Score')\n",
        "negation_results_df.head()"
      ],
      "execution_count": 12,
      "outputs": [
        {
          "output_type": "execute_result",
          "data": {
            "text/html": [
              "<div>\n",
              "<style scoped>\n",
              "    .dataframe tbody tr th:only-of-type {\n",
              "        vertical-align: middle;\n",
              "    }\n",
              "\n",
              "    .dataframe tbody tr th {\n",
              "        vertical-align: top;\n",
              "    }\n",
              "\n",
              "    .dataframe thead th {\n",
              "        text-align: right;\n",
              "    }\n",
              "</style>\n",
              "<table border=\"1\" class=\"dataframe\">\n",
              "  <thead>\n",
              "    <tr style=\"text-align: right;\">\n",
              "      <th></th>\n",
              "      <th>Model</th>\n",
              "      <th>Dataset</th>\n",
              "      <th>Run</th>\n",
              "      <th>Metric</th>\n",
              "      <th>Score</th>\n",
              "    </tr>\n",
              "  </thead>\n",
              "  <tbody>\n",
              "    <tr>\n",
              "      <th>0</th>\n",
              "      <td>STL</td>\n",
              "      <td>Restaurant</td>\n",
              "      <td>0</td>\n",
              "      <td>F1-a</td>\n",
              "      <td>0.786925</td>\n",
              "    </tr>\n",
              "    <tr>\n",
              "      <th>1</th>\n",
              "      <td>STL</td>\n",
              "      <td>Restaurant</td>\n",
              "      <td>1</td>\n",
              "      <td>F1-a</td>\n",
              "      <td>0.780906</td>\n",
              "    </tr>\n",
              "    <tr>\n",
              "      <th>2</th>\n",
              "      <td>STL</td>\n",
              "      <td>Restaurant</td>\n",
              "      <td>2</td>\n",
              "      <td>F1-a</td>\n",
              "      <td>0.780193</td>\n",
              "    </tr>\n",
              "    <tr>\n",
              "      <th>3</th>\n",
              "      <td>STL</td>\n",
              "      <td>Restaurant</td>\n",
              "      <td>3</td>\n",
              "      <td>F1-a</td>\n",
              "      <td>0.786683</td>\n",
              "    </tr>\n",
              "    <tr>\n",
              "      <th>4</th>\n",
              "      <td>STL</td>\n",
              "      <td>Restaurant</td>\n",
              "      <td>4</td>\n",
              "      <td>F1-a</td>\n",
              "      <td>0.779252</td>\n",
              "    </tr>\n",
              "  </tbody>\n",
              "</table>\n",
              "</div>"
            ],
            "text/plain": [
              "  Model     Dataset  Run Metric     Score\n",
              "0   STL  Restaurant    0   F1-a  0.786925\n",
              "1   STL  Restaurant    1   F1-a  0.780906\n",
              "2   STL  Restaurant    2   F1-a  0.780193\n",
              "3   STL  Restaurant    3   F1-a  0.786683\n",
              "4   STL  Restaurant    4   F1-a  0.779252"
            ]
          },
          "metadata": {
            "tags": []
          },
          "execution_count": 12
        }
      ]
    },
    {
      "cell_type": "markdown",
      "metadata": {
        "id": "Pidqds7Ckuyi",
        "colab_type": "text"
      },
      "source": [
        "## F1-I"
      ]
    },
    {
      "cell_type": "code",
      "metadata": {
        "id": "Jwcyu-Nua11D",
        "colab_type": "code",
        "colab": {
          "base_uri": "https://localhost:8080/",
          "height": 386
        },
        "outputId": "7e3801a0-c4b1-46fd-9b46-00cbb343aff5"
      },
      "source": [
        "f1_i_negation_results = negation_results_df[negation_results_df['Metric'].isin(['F1-i', 'F1-i-pos', 'F1-i-neu', 'F1-i-neg'])]\n",
        "sns.catplot(data=f1_i_negation_results, hue='Model', col='Dataset', x='Metric', \n",
        "            y='Score', sharex=False, sharey=False, kind='point', ci='sd', \n",
        "            join=False, dodge=0.4, capsize=0.1)"
      ],
      "execution_count": 13,
      "outputs": [
        {
          "output_type": "execute_result",
          "data": {
            "text/plain": [
              "<seaborn.axisgrid.FacetGrid at 0x7f7fa58408d0>"
            ]
          },
          "metadata": {
            "tags": []
          },
          "execution_count": 13
        },
        {
          "output_type": "display_data",
          "data": {
            "image/png": "[encoded data removed]",
            "text/plain": [
              "<Figure size 806.375x360 with 2 Axes>"
            ]
          },
          "metadata": {
            "tags": []
          }
        }
      ]
    },
    {
      "cell_type": "code",
      "metadata": {
        "id": "X0u2JZq7k6us",
        "colab_type": "code",
        "colab": {
          "base_uri": "https://localhost:8080/",
          "height": 142
        },
        "outputId": "794df24e-11a1-44a3-d920-e8dff62a2e16"
      },
      "source": [
        "f1_i_negation_results = negation_results_df[negation_results_df['Metric'].isin(['F1-i'])]\n",
        "pd.pivot_table(values='Score', \n",
        "               columns=['Dataset', 'Metric'], \n",
        "               index='Model', data=f1_i_negation_results, aggfunc=mean_std).T"
      ],
      "execution_count": 14,
      "outputs": [
        {
          "output_type": "execute_result",
          "data": {
            "text/html": [
              "<div>\n",
              "<style scoped>\n",
              "    .dataframe tbody tr th:only-of-type {\n",
              "        vertical-align: middle;\n",
              "    }\n",
              "\n",
              "    .dataframe tbody tr th {\n",
              "        vertical-align: top;\n",
              "    }\n",
              "\n",
              "    .dataframe thead th {\n",
              "        text-align: right;\n",
              "    }\n",
              "</style>\n",
              "<table border=\"1\" class=\"dataframe\">\n",
              "  <thead>\n",
              "    <tr style=\"text-align: right;\">\n",
              "      <th></th>\n",
              "      <th>Model</th>\n",
              "      <th>MTL (CD)</th>\n",
              "      <th>MTL (SFU)</th>\n",
              "      <th>STL</th>\n",
              "    </tr>\n",
              "    <tr>\n",
              "      <th>Dataset</th>\n",
              "      <th>Metric</th>\n",
              "      <th></th>\n",
              "      <th></th>\n",
              "      <th></th>\n",
              "    </tr>\n",
              "  </thead>\n",
              "  <tbody>\n",
              "    <tr>\n",
              "      <th>Laptop</th>\n",
              "      <th>F1-i</th>\n",
              "      <td>29.46 (0.55)</td>\n",
              "      <td>30.87 (3.13)</td>\n",
              "      <td>26.19 (1.04)</td>\n",
              "    </tr>\n",
              "    <tr>\n",
              "      <th>Restaurant</th>\n",
              "      <th>F1-i</th>\n",
              "      <td>42.80 (0.44)</td>\n",
              "      <td>40.29 (2.01)</td>\n",
              "      <td>39.06 (1.22)</td>\n",
              "    </tr>\n",
              "  </tbody>\n",
              "</table>\n",
              "</div>"
            ],
            "text/plain": [
              "Model                  MTL (CD)     MTL (SFU)           STL\n",
              "Dataset    Metric                                          \n",
              "Laptop     F1-i    29.46 (0.55)  30.87 (3.13)  26.19 (1.04)\n",
              "Restaurant F1-i    42.80 (0.44)  40.29 (2.01)  39.06 (1.22)"
            ]
          },
          "metadata": {
            "tags": []
          },
          "execution_count": 14
        }
      ]
    },
    {
      "cell_type": "markdown",
      "metadata": {
        "id": "NQ9waS7qk4vx",
        "colab_type": "text"
      },
      "source": [
        "Compared to the non-negation results the largest difference is in the Laptop results where there is a difference of 25-30 F1 score. In the Restaurant it is close to the 20-25 F1 score difference. Very large differences!\n",
        "\n",
        "## F1-A"
      ]
    },
    {
      "cell_type": "code",
      "metadata": {
        "id": "vxl1pFNxbLll",
        "colab_type": "code",
        "colab": {
          "base_uri": "https://localhost:8080/",
          "height": 386
        },
        "outputId": "d90586c2-cd47-4d59-b7e5-ac4238403871"
      },
      "source": [
        "f1_a_negation_results = negation_results_df[negation_results_df['Metric'].isin(['F1-a', 'F1-a-P', 'F1-a-R'])]\n",
        "sns.catplot(data=f1_a_negation_results, hue='Model', col='Dataset', x='Metric', \n",
        "            y='Score', sharex=False, sharey=False, kind='point', ci='sd', \n",
        "            join=False, dodge=0.4, capsize=0.1)"
      ],
      "execution_count": 15,
      "outputs": [
        {
          "output_type": "execute_result",
          "data": {
            "text/plain": [
              "<seaborn.axisgrid.FacetGrid at 0x7f7fab0ea5c0>"
            ]
          },
          "metadata": {
            "tags": []
          },
          "execution_count": 15
        },
        {
          "output_type": "display_data",
          "data": {
            "image/png": "[encoded data removed]",
            "text/plain": [
              "<Figure size 806.375x360 with 2 Axes>"
            ]
          },
          "metadata": {
            "tags": []
          }
        }
      ]
    },
    {
      "cell_type": "code",
      "metadata": {
        "id": "XZirFEPRluaH",
        "colab_type": "code",
        "colab": {
          "base_uri": "https://localhost:8080/",
          "height": 142
        },
        "outputId": "a5f4032c-4e74-438d-f21e-d13c52759c8d"
      },
      "source": [
        "f1_a_negation_results = negation_results_df[negation_results_df['Metric'].isin(['F1-a'])]\n",
        "pd.pivot_table(values='Score', \n",
        "               columns=['Dataset', 'Metric'], \n",
        "               index='Model', data=f1_a_negation_results, aggfunc=mean_std).T"
      ],
      "execution_count": 16,
      "outputs": [
        {
          "output_type": "execute_result",
          "data": {
            "text/html": [
              "<div>\n",
              "<style scoped>\n",
              "    .dataframe tbody tr th:only-of-type {\n",
              "        vertical-align: middle;\n",
              "    }\n",
              "\n",
              "    .dataframe tbody tr th {\n",
              "        vertical-align: top;\n",
              "    }\n",
              "\n",
              "    .dataframe thead th {\n",
              "        text-align: right;\n",
              "    }\n",
              "</style>\n",
              "<table border=\"1\" class=\"dataframe\">\n",
              "  <thead>\n",
              "    <tr style=\"text-align: right;\">\n",
              "      <th></th>\n",
              "      <th>Model</th>\n",
              "      <th>MTL (CD)</th>\n",
              "      <th>MTL (SFU)</th>\n",
              "      <th>STL</th>\n",
              "    </tr>\n",
              "    <tr>\n",
              "      <th>Dataset</th>\n",
              "      <th>Metric</th>\n",
              "      <th></th>\n",
              "      <th></th>\n",
              "      <th></th>\n",
              "    </tr>\n",
              "  </thead>\n",
              "  <tbody>\n",
              "    <tr>\n",
              "      <th>Laptop</th>\n",
              "      <th>F1-a</th>\n",
              "      <td>74.66 (1.82)</td>\n",
              "      <td>74.27 (1.13)</td>\n",
              "      <td>73.96 (0.96)</td>\n",
              "    </tr>\n",
              "    <tr>\n",
              "      <th>Restaurant</th>\n",
              "      <th>F1-a</th>\n",
              "      <td>79.01 (1.10)</td>\n",
              "      <td>78.86 (0.60)</td>\n",
              "      <td>78.28 (0.33)</td>\n",
              "    </tr>\n",
              "  </tbody>\n",
              "</table>\n",
              "</div>"
            ],
            "text/plain": [
              "Model                  MTL (CD)     MTL (SFU)           STL\n",
              "Dataset    Metric                                          \n",
              "Laptop     F1-a    74.66 (1.82)  74.27 (1.13)  73.96 (0.96)\n",
              "Restaurant F1-a    79.01 (1.10)  78.86 (0.60)  78.28 (0.33)"
            ]
          },
          "metadata": {
            "tags": []
          },
          "execution_count": 16
        }
      ]
    },
    {
      "cell_type": "markdown",
      "metadata": {
        "id": "QxP1oYuml3Yj",
        "colab_type": "text"
      },
      "source": [
        "We can see the difference in the F1-I score cannot be due to the extraction task as there is almost no difference for the Restaurant and Laptop datasets compared to the non-negation results.\n",
        "\n",
        "## F1-S and ACC-S"
      ]
    },
    {
      "cell_type": "code",
      "metadata": {
        "id": "Ljx4LIPJbmL-",
        "colab_type": "code",
        "colab": {
          "base_uri": "https://localhost:8080/",
          "height": 386
        },
        "outputId": "24076339-58ad-496a-ae66-c28167ff75af"
      },
      "source": [
        "sentiment_negation_results = negation_results_df[negation_results_df['Metric'].isin(['F1-s', 'Acc-s'])]\n",
        "sns.catplot(data=sentiment_negation_results, hue='Model', col='Dataset', x='Metric', \n",
        "            y='Score', sharex=False, sharey=False, kind='point', ci='sd', \n",
        "            join=False, dodge=0.4, capsize=0.1)"
      ],
      "execution_count": 17,
      "outputs": [
        {
          "output_type": "execute_result",
          "data": {
            "text/plain": [
              "<seaborn.axisgrid.FacetGrid at 0x7f7fa55a6e10>"
            ]
          },
          "metadata": {
            "tags": []
          },
          "execution_count": 17
        },
        {
          "output_type": "display_data",
          "data": {
            "image/png": "[encoded data removed]",
            "text/plain": [
              "<Figure size 806.375x360 with 2 Axes>"
            ]
          },
          "metadata": {
            "tags": []
          }
        }
      ]
    },
    {
      "cell_type": "code",
      "metadata": {
        "id": "jDg0xbbRmUSX",
        "colab_type": "code",
        "colab": {
          "base_uri": "https://localhost:8080/",
          "height": 204
        },
        "outputId": "861d57fe-57cb-4357-896f-973fb5f6b735"
      },
      "source": [
        "pd.pivot_table(values='Score', \n",
        "               columns=['Dataset', 'Metric'], \n",
        "               index='Model', data=sentiment_negation_results, \n",
        "               aggfunc=mean_std).T"
      ],
      "execution_count": 18,
      "outputs": [
        {
          "output_type": "execute_result",
          "data": {
            "text/html": [
              "<div>\n",
              "<style scoped>\n",
              "    .dataframe tbody tr th:only-of-type {\n",
              "        vertical-align: middle;\n",
              "    }\n",
              "\n",
              "    .dataframe tbody tr th {\n",
              "        vertical-align: top;\n",
              "    }\n",
              "\n",
              "    .dataframe thead th {\n",
              "        text-align: right;\n",
              "    }\n",
              "</style>\n",
              "<table border=\"1\" class=\"dataframe\">\n",
              "  <thead>\n",
              "    <tr style=\"text-align: right;\">\n",
              "      <th></th>\n",
              "      <th>Model</th>\n",
              "      <th>MTL (CD)</th>\n",
              "      <th>MTL (SFU)</th>\n",
              "      <th>STL</th>\n",
              "    </tr>\n",
              "    <tr>\n",
              "      <th>Dataset</th>\n",
              "      <th>Metric</th>\n",
              "      <th></th>\n",
              "      <th></th>\n",
              "      <th></th>\n",
              "    </tr>\n",
              "  </thead>\n",
              "  <tbody>\n",
              "    <tr>\n",
              "      <th rowspan=\"2\" valign=\"top\">Laptop</th>\n",
              "      <th>Acc-s</th>\n",
              "      <td>39.47 (1.06)</td>\n",
              "      <td>41.54 (3.87)</td>\n",
              "      <td>35.40 (1.20)</td>\n",
              "    </tr>\n",
              "    <tr>\n",
              "      <th>F1-s</th>\n",
              "      <td>39.19 (2.29)</td>\n",
              "      <td>40.94 (3.96)</td>\n",
              "      <td>33.90 (2.04)</td>\n",
              "    </tr>\n",
              "    <tr>\n",
              "      <th rowspan=\"2\" valign=\"top\">Restaurant</th>\n",
              "      <th>Acc-s</th>\n",
              "      <td>54.18 (1.02)</td>\n",
              "      <td>51.10 (2.55)</td>\n",
              "      <td>49.90 (1.57)</td>\n",
              "    </tr>\n",
              "    <tr>\n",
              "      <th>F1-s</th>\n",
              "      <td>48.29 (1.71)</td>\n",
              "      <td>42.66 (3.43)</td>\n",
              "      <td>44.32 (2.48)</td>\n",
              "    </tr>\n",
              "  </tbody>\n",
              "</table>\n",
              "</div>"
            ],
            "text/plain": [
              "Model                  MTL (CD)     MTL (SFU)           STL\n",
              "Dataset    Metric                                          \n",
              "Laptop     Acc-s   39.47 (1.06)  41.54 (3.87)  35.40 (1.20)\n",
              "           F1-s    39.19 (2.29)  40.94 (3.96)  33.90 (2.04)\n",
              "Restaurant Acc-s   54.18 (1.02)  51.10 (2.55)  49.90 (1.57)\n",
              "           F1-s    48.29 (1.71)  42.66 (3.43)  44.32 (2.48)"
            ]
          },
          "metadata": {
            "tags": []
          },
          "execution_count": 18
        }
      ]
    },
    {
      "cell_type": "markdown",
      "metadata": {
        "id": "8d3XWFEomZjX",
        "colab_type": "text"
      },
      "source": [
        "As suggested from the F1-A results the main difference is in the sentiment metrics. As can be seen the MTL models generally perform better on the negation data espically the Conan Doyle more, the difference between the MTL models and the STL is much larger when applied to the negation data."
      ]
    },
    {
      "cell_type": "code",
      "metadata": {
        "id": "8ANEnHTfnLgr",
        "colab_type": "code",
        "colab": {}
      },
      "source": [
        ""
      ],
      "execution_count": 0,
      "outputs": []
    }
  ]
}